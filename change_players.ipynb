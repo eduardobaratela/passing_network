{
 "cells": [
  {
   "cell_type": "code",
   "execution_count": 1,
   "metadata": {},
   "outputs": [],
   "source": [
    "import pandas as pd\n",
    "import networkx as nx\n",
    "import numpy as np\n",
    "import json\n",
    "import time\n",
    "import utils\n",
    "from collections import defaultdict\n",
    "from tqdm.notebook import tqdm, tqdm_notebook\n",
    "tqdm_notebook.pandas()\n",
    "\n",
    "pd.set_option('display.max_columns', None)\n",
    "pd.set_option('display.max_rows', None)"
   ]
  },
  {
   "cell_type": "code",
   "execution_count": 2,
   "metadata": {},
   "outputs": [],
   "source": [
    "def sub_players(eventos, partidas):\n",
    "    subs_match = {}\n",
    "\n",
    "    for match, id in zip(partidas['teamsData'], partidas['wyId']):\n",
    "        try:\n",
    "            subs = {}\n",
    "            for team in match.values():\n",
    "                for changes in team['formation']['substitutions']:\n",
    "                    subs[changes['playerIn']] = changes['playerOut']\n",
    "            subs_match[id] = subs\n",
    "        except TypeError:\n",
    "            pass\n",
    "\n",
    "    #transformar dicionário com matchId / playerIn / playerOut em data frame\n",
    "    df_sub = pd.DataFrame(\n",
    "        [[k1, k2, v]\n",
    "        for k1,d in subs_match.items() \n",
    "        for k2,v in d.items()],\n",
    "        columns=['matchId' , 'playerIn' , 'playerOut'])\n",
    "\n",
    "    eventos = eventos.merge(df_sub, how='left', left_on=['matchId', 'playerId'], right_on=['matchId', 'playerIn']).drop(['playerIn'], axis=1)\n",
    "\n",
    "    eventos['playerId'] = eventos['playerOut'].fillna(eventos['playerId'])\n",
    "    eventos.drop(['playerOut'], axis = 1, inplace=True)\n",
    "\n",
    "    return eventos\n"
   ]
  },
  {
   "cell_type": "code",
   "execution_count": 4,
   "metadata": {},
   "outputs": [
    {
     "name": "stdout",
     "output_type": "stream",
     "text": [
      "ALTERANDO JOGADORES SUBSTITUTOS\n",
      "Tournament : Italy\n",
      "Tournament : England\n",
      "Tournament : Germany\n",
      "Tournament : France\n",
      "Tournament : Spain\n",
      "Tournament : European_Championship\n",
      "Tournament : World_Cup\n"
     ]
    }
   ],
   "source": [
    "print(\"ALTERANDO JOGADORES SUBSTITUTOS\")\n",
    "for tournament in utils.TOURNAMENTS:\n",
    "    print(\"Tournament : %s\" %tournament)\n",
    "\n",
    "    events = pd.read_json('data_backup\\events\\events_%s.json' %tournament)\n",
    "    matches = pd.read_json('data_backup\\matches\\matches_%s.json' %tournament)\n",
    "\n",
    "    df = sub_players(events, matches)\n",
    "    df.to_json(\"events/events_%s.json\" %tournament, orient='records')"
   ]
  },
  {
   "cell_type": "code",
   "execution_count": null,
   "metadata": {},
   "outputs": [],
   "source": []
  }
 ],
 "metadata": {
  "kernelspec": {
   "display_name": "base",
   "language": "python",
   "name": "python3"
  },
  "language_info": {
   "codemirror_mode": {
    "name": "ipython",
    "version": 3
   },
   "file_extension": ".py",
   "mimetype": "text/x-python",
   "name": "python",
   "nbconvert_exporter": "python",
   "pygments_lexer": "ipython3",
   "version": "3.9.7"
  },
  "orig_nbformat": 4,
  "vscode": {
   "interpreter": {
    "hash": "16641c8cfe17a9d73f3b6f813f8e13124430606dcf56459ef4dd2dad73abfa35"
   }
  }
 },
 "nbformat": 4,
 "nbformat_minor": 2
}
