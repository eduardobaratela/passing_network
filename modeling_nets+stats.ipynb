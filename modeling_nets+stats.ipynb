{
 "cells": [
  {
   "cell_type": "code",
   "execution_count": 1,
   "metadata": {},
   "outputs": [],
   "source": [
    "#importando bibliotecas\n",
    "\n",
    "import pandas as pd\n",
    "import numpy as np\n",
    "import matplotlib.pyplot as plt\n",
    "import seaborn as sns\n",
    "from sklearn.model_selection import train_test_split\n",
    "from sklearn.preprocessing import StandardScaler\n",
    "from sklearn.feature_selection import VarianceThreshold\n",
    "from sklearn.feature_selection import SelectFromModel\n",
    "from sklearn.decomposition import PCA\n",
    "# from imblearn.pipeline import Pipeline\n",
    "from sklearn.utils import resample\n",
    "from sklearn.linear_model import LogisticRegression\n",
    "from sklearn.ensemble import RandomForestClassifier\n",
    "from sklearn.svm import SVC\n",
    "from sklearn.naive_bayes import GaussianNB\n",
    "from xgboost import XGBClassifier, plot_importance\n",
    "from sklearn.ensemble import GradientBoostingClassifier\n",
    "from sklearn.model_selection import StratifiedKFold\n",
    "from sklearn.model_selection import cross_val_score\n",
    "from sklearn.model_selection import GridSearchCV\n",
    "from sklearn.metrics import *\n",
    "from hyperopt import tpe, hp, fmin, STATUS_OK,Trials\n",
    "from hyperopt.pyll.base import scope\n",
    "import matplotlib.cm as cm\n",
    "from sklearn.cluster import KMeans\n",
    "from sklearn.metrics import silhouette_samples, silhouette_score\n",
    "from mpl_toolkits.mplot3d import Axes3D\n",
    "\n",
    "import warnings\n",
    "warnings.filterwarnings('ignore')"
   ]
  },
  {
   "cell_type": "code",
   "execution_count": 3,
   "metadata": {},
   "outputs": [],
   "source": [
    "#ler csv\n",
    "\n",
    "#stats\n",
    "stats_ger = pd.read_csv(\"rolling_avg/stats_avg_ger.csv\")\n",
    "stats_ita = pd.read_csv(\"rolling_avg/stats_avg_ita.csv\")\n",
    "stats_eng = pd.read_csv(\"rolling_avg/stats_avg_eng.csv\")\n",
    "stats_fra = pd.read_csv(\"rolling_avg/stats_avg_fra.csv\")\n",
    "stats_spa = pd.read_csv(\"rolling_avg/stats_avg_spa.csv\")\n",
    "stats_eur = pd.read_csv(\"rolling_avg/stats_avg_eur.csv\")\n",
    "stats_cup = pd.read_csv(\"rolling_avg/stats_avg_cup.csv\")\n",
    "\n",
    "#nets\n",
    "nets_ger = pd.read_csv(\"rolling_avg/net_avg_ger.csv\")\n",
    "nets_ita = pd.read_csv(\"rolling_avg/net_avg_ita.csv\")\n",
    "nets_eng = pd.read_csv(\"rolling_avg/net_avg_eng.csv\")\n",
    "nets_fra = pd.read_csv(\"rolling_avg/net_avg_fra.csv\")\n",
    "nets_spa = pd.read_csv(\"rolling_avg/net_avg_spa.csv\")\n",
    "nets_eur = pd.read_csv(\"rolling_avg/net_avg_eur.csv\")\n",
    "nets_cup = pd.read_csv(\"rolling_avg/net_avg_cup.csv\")"
   ]
  },
  {
   "cell_type": "code",
   "execution_count": null,
   "metadata": {},
   "outputs": [],
   "source": []
  }
 ],
 "metadata": {
  "kernelspec": {
   "display_name": "base",
   "language": "python",
   "name": "python3"
  },
  "language_info": {
   "codemirror_mode": {
    "name": "ipython",
    "version": 3
   },
   "file_extension": ".py",
   "mimetype": "text/x-python",
   "name": "python",
   "nbconvert_exporter": "python",
   "pygments_lexer": "ipython3",
   "version": "3.9.7"
  },
  "orig_nbformat": 4
 },
 "nbformat": 4,
 "nbformat_minor": 2
}
